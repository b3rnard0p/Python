{
 "cells": [
  {
   "cell_type": "code",
   "execution_count": null,
   "metadata": {},
   "outputs": [],
   "source": [
    "# !pip install pandas scikit-learn"
   ]
  },
  {
   "cell_type": "code",
   "execution_count": null,
   "metadata": {},
   "outputs": [],
   "source": [
    "# Passo a passo\n",
    "\n",
    "# Passo 0 - Entender a empresa e o desafio da empresa\n",
    "  # Score de crédito = Nota de crédito\n",
    "  # Good = Boa\n",
    "  # Standard = OK\n",
    "  # Poor = Ruim\n",
    "\n",
    "# Passo 1 - Importar a base de dados\n",
    "import pandas as pd\n",
    "\n",
    "tabela = pd.read_csv(\"clientes.csv\")\n",
    "\n",
    "display(tabela)\n",
    "\n"
   ]
  },
  {
   "cell_type": "code",
   "execution_count": null,
   "metadata": {},
   "outputs": [],
   "source": [
    "# Passo 2 - Preparar a base de dados para a Inteligência Artificial(IA só entende numeros)\n",
    "display(tabela.info())\n",
    "\n",
    "# Converter texto em numero --> profissao = (cientista = 1, bombeiro = 2, engenheiro = 3, dentista = 4, artista = 5)\n",
    "\n",
    "# LabelEncoder --> Converte texto em numero e vice versa\n",
    "from sklearn.preprocessing import LabelEncoder\n",
    "\n",
    "\n",
    "# profissão\n",
    "codificador_profissao = LabelEncoder()\n",
    "tabela[\"profissao\"] = codificador_profissao.fit_transform(tabela[\"profissao\"])\n",
    "\n",
    "\n",
    "# mix_credito\n",
    "codificador_credito = LabelEncoder()\n",
    "tabela[\"mix_credito\"] = codificador_credito.fit_transform(tabela[\"mix_credito\"])\n",
    "\n",
    "# comportamento_pagamento\n",
    "codificador_pagamento = LabelEncoder()\n",
    "tabela[\"comportamento_pagamento\"] = codificador_pagamento.fit_transform(tabela[\"comportamento_pagamento\"])\n",
    "\n",
    "\n",
    "display(tabela.info())"
   ]
  },
  {
   "cell_type": "code",
   "execution_count": 3,
   "metadata": {},
   "outputs": [],
   "source": [
    "# Passo 3 - Separar as informações da base de dados para a IA(em x e y)\n",
    "\n",
    "# y -> é a coluna da base de dados que eu quero prever\n",
    "y = tabela[\"score_credito\"]\n",
    "\n",
    "# x -> Todas as colunas da base de dados, menos a coluna da base de dados que eu quero prever e o id_cliente\n",
    "x = tabela.drop(columns=[\"score_credito\", \"id_cliente\"])\n",
    "\n",
    "# Separar em dados de treino(exercicio) e dados de teste(prova) --> Machine Learning\n",
    "from sklearn.model_selection import train_test_split\n",
    "\n",
    "x_treino, x_teste, y_treino, y_teste = train_test_split(x, y, test_size=0.3)"
   ]
  },
  {
   "cell_type": "code",
   "execution_count": null,
   "metadata": {},
   "outputs": [],
   "source": [
    "# Passo 4 - Treinar a Inteligência Artificial\n",
    "  # Criar o modelo: Nota de crédito: Boa, Ok, Ruim\n",
    "\n",
    "# importar a IA(modelo)\n",
    "from sklearn.ensemble import RandomForestClassifier # Arvore de Decisão (Aprende fazendo perguntas para a base de dados)\n",
    "from sklearn.neighbors import KNeighborsClassifier # Vizinhos Próximos (Aprende comparando os clientes)\n",
    "\n",
    "# criar a IA(modelo)\n",
    "modelo_arvoredecisao = RandomForestClassifier()\n",
    "modelo_knn = KNeighborsClassifier()\n",
    "\n",
    "# treinar a IA(modelo)\n",
    "modelo_arvoredecisao.fit(x_treino, y_treino)\n",
    "modelo_knn.fit(x_treino, y_treino)"
   ]
  },
  {
   "cell_type": "markdown",
   "metadata": {},
   "source": []
  },
  {
   "cell_type": "code",
   "execution_count": null,
   "metadata": {},
   "outputs": [],
   "source": [
    "# Passo 5 - Escolher qual o melhor modelo\n",
    "previsao_arvoredecisao = modelo_arvoredecisao.predict(x_teste)\n",
    "previsao_knn = modelo_knn.predict(x_teste)\n",
    "\n",
    "# acurácia\n",
    "from sklearn.metrics import accuracy_score\n",
    "\n",
    "display(accuracy_score(y_teste, previsao_arvoredecisao))\n",
    "display(accuracy_score(y_teste, previsao_knn))\n"
   ]
  },
  {
   "cell_type": "code",
   "execution_count": null,
   "metadata": {},
   "outputs": [],
   "source": [
    "# Passo 6 - Usar o melhor modelo para fazer previsão de novos clientes\n",
    "    # melhor modelo é o modelo_arvoredecisao(82 x 73)\n",
    "\n",
    "\n",
    "# importar os novos clientes para fazer a previsao\n",
    "tabela_novos_clientes = pd.read_csv(\"novos_clientes.csv\")\n",
    "\n",
    "\n",
    "# profissao\n",
    "tabela_novos_clientes[\"profissao\"] = codificador_profissao.transform(\n",
    "    tabela_novos_clientes[\"profissao\"])\n",
    "\n",
    "# mix_credito\n",
    "tabela_novos_clientes[\"mix_credito\"] = codificador_credito.transform(\n",
    "    tabela_novos_clientes[\"mix_credito\"])\n",
    "\n",
    "# comportamento_pagamento\n",
    "tabela_novos_clientes[\"comportamento_pagamento\"] = codificador_pagamento.transform(\n",
    "    tabela_novos_clientes[\"comportamento_pagamento\"])\n",
    "\n",
    "display(tabela_novos_clientes)\n",
    "\n",
    "nova_previsao = modelo_arvoredecisao.predict(tabela_novos_clientes)\n",
    "display(nova_previsao)\n"
   ]
  }
 ],
 "metadata": {
  "kernelspec": {
   "display_name": "Python 3",
   "language": "python",
   "name": "python3"
  },
  "language_info": {
   "codemirror_mode": {
    "name": "ipython",
    "version": 3
   },
   "file_extension": ".py",
   "mimetype": "text/x-python",
   "name": "python",
   "nbconvert_exporter": "python",
   "pygments_lexer": "ipython3",
   "version": "3.13.2"
  },
  "orig_nbformat": 4
 },
 "nbformat": 4,
 "nbformat_minor": 2
}
